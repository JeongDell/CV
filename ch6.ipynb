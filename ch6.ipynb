{
 "cells": [
  {
   "cell_type": "code",
   "execution_count": 1,
   "metadata": {},
   "outputs": [],
   "source": [
    "import torch\n",
    "import torch.nn as nn\n",
    "from torchvision.datasets import MNIST\n",
    "from torchvision.transforms import ToTensor\n",
    "from torch.utils.data import DataLoader\n",
    "from torch import optim"
   ]
  },
  {
   "cell_type": "code",
   "execution_count": 2,
   "metadata": {},
   "outputs": [
    {
     "data": {
      "text/plain": [
       "<torch._C.Generator at 0x28d7fce9490>"
      ]
     },
     "execution_count": 2,
     "metadata": {},
     "output_type": "execute_result"
    }
   ],
   "source": [
    "# For reproducability\n",
    "torch.manual_seed(0)"
   ]
  },
  {
   "cell_type": "code",
   "execution_count": 3,
   "metadata": {},
   "outputs": [],
   "source": [
    "class Net(nn.Module):\n",
    "  def __init__(self, in_dim, feature_dim, out_dim):\n",
    "    super(Net, self).__init__()\n",
    "    self.classifier = nn.Sequential(\n",
    "        nn.Flatten(),\n",
    "        nn.Linear(in_dim, feature_dim),\n",
    "        nn.ReLU(),\n",
    "        nn.Linear(feature_dim, feature_dim),\n",
    "        nn.ReLU(),\n",
    "        nn.Linear(feature_dim, out_dim),\n",
    "        nn.ReLU()\n",
    "    )\n",
    "\n",
    "  def forward(self, inputs):\n",
    "    return self.classifier(inputs)"
   ]
  },
  {
   "cell_type": "code",
   "execution_count": 4,
   "metadata": {},
   "outputs": [],
   "source": [
    "trainset = MNIST('.', train=True, download=True, \n",
    "                      transform=ToTensor())\n",
    "testset = MNIST('.', train=False, download=True, \n",
    "                      transform=ToTensor())\n",
    "trainloader = DataLoader(trainset, batch_size=64, shuffle=True)\n",
    "testloader = DataLoader(testset, batch_size=64, shuffle=False)"
   ]
  },
  {
   "cell_type": "code",
   "execution_count": 5,
   "metadata": {},
   "outputs": [
    {
     "data": {
      "text/plain": [
       "Net(\n",
       "  (classifier): Sequential(\n",
       "    (0): Flatten(start_dim=1, end_dim=-1)\n",
       "    (1): Linear(in_features=784, out_features=256, bias=True)\n",
       "    (2): ReLU()\n",
       "    (3): Linear(in_features=256, out_features=256, bias=True)\n",
       "    (4): ReLU()\n",
       "    (5): Linear(in_features=256, out_features=10, bias=True)\n",
       "    (6): ReLU()\n",
       "  )\n",
       ")"
      ]
     },
     "execution_count": 5,
     "metadata": {},
     "output_type": "execute_result"
    }
   ],
   "source": [
    "\n",
    "IN_DIM, FEATURE_DIM, OUT_DIM = 784, 256, 10\n",
    "lr = 1e-4\n",
    "loss_fn = nn.CrossEntropyLoss()\n",
    "num_epochs = 40\n",
    "classifier = Net(IN_DIM, FEATURE_DIM, OUT_DIM)\n",
    "optimizer = optim.SGD(classifier.parameters(), lr=lr)\n",
    "classifier"
   ]
  },
  {
   "cell_type": "code",
   "execution_count": 6,
   "metadata": {},
   "outputs": [
    {
     "name": "stdout",
     "output_type": "stream",
     "text": [
      "2.3049710180713676\n",
      "2.3025251769307835\n",
      "2.2999572390432297\n",
      "2.2973878322633854\n",
      "2.294872475331272\n",
      "2.2923909288479574\n",
      "2.2899169441479357\n",
      "2.2874326423795495\n",
      "2.284931261656381\n",
      "2.2823666900968247\n",
      "2.279773582273455\n",
      "2.2770956889398573\n",
      "2.274357469859662\n",
      "2.27154698986997\n",
      "2.268646023420891\n",
      "2.265655167575584\n",
      "2.2625733502129757\n",
      "2.259384611013856\n",
      "2.256069626381148\n",
      "2.2526530764504535\n",
      "2.24906992226013\n",
      "2.2453533866003887\n",
      "2.2414656930894994\n",
      "2.2374241069944176\n",
      "2.2331880847019936\n",
      "2.2287374460366745\n",
      "2.2240896474069625\n",
      "2.2192085790735825\n",
      "2.21407820217645\n",
      "2.2086961599809527\n",
      "2.2030510437259796\n",
      "2.197116542472514\n",
      "2.19084291569968\n",
      "2.184254859556267\n",
      "2.1773440759065052\n",
      "2.170090875391767\n",
      "2.1624152721372494\n",
      "2.154347509209281\n",
      "2.145897407013216\n",
      "2.1369686645231267\n"
     ]
    }
   ],
   "source": [
    "for epochs in range(num_epochs):\n",
    "  running_loss = 0.0\n",
    "  for inputs, labels in trainloader:\n",
    "    optimizer.zero_grad()\n",
    "    outputs = classifier(inputs)\n",
    "    loss = loss_fn(outputs, labels)\n",
    "    loss.backward()\n",
    "    running_loss += loss.item()\n",
    "    optimizer.step()\n",
    "  print(running_loss/len(trainloader))"
   ]
  },
  {
   "cell_type": "code",
   "execution_count": 7,
   "metadata": {},
   "outputs": [
    {
     "name": "stdout",
     "output_type": "stream",
     "text": [
      "Model's state_dict:\n",
      "classifier.1.weight \t torch.Size([256, 784])\n",
      "classifier.1.bias \t torch.Size([256])\n",
      "classifier.3.weight \t torch.Size([256, 256])\n",
      "classifier.3.bias \t torch.Size([256])\n",
      "classifier.5.weight \t torch.Size([10, 256])\n",
      "classifier.5.bias \t torch.Size([10])\n"
     ]
    }
   ],
   "source": [
    "\n",
    "model = classifier\n",
    "print(\"Model's state_dict:\")\n",
    "for param_tensor in model.state_dict():\n",
    "    print(param_tensor, \"\\t\", \n",
    "          model.state_dict()[param_tensor].size())\n",
    "    \n",
    "# out:\n",
    "# Model's state_dict:\n",
    "# classifier.1.weight \ttorch.Size([256, 784])\n",
    "# classifier.1.bias \t  torch.Size([256])\n",
    "# classifier.3.weight \ttorch.Size([256, 256])\n",
    "# classifier.3.bias \t  torch.Size([256])\n",
    "# classifier.5.weight \ttorch.Size([10, 256])\n",
    "# classifier.5.bias \t  torch.Size([10])"
   ]
  },
  {
   "cell_type": "code",
   "execution_count": 8,
   "metadata": {},
   "outputs": [],
   "source": [
    "\n",
    "# Save state to file as checkpoint\n",
    "torch.save(model.state_dict(), 'mnist.pt')\n",
    "     "
   ]
  },
  {
   "cell_type": "code",
   "execution_count": 9,
   "metadata": {},
   "outputs": [
    {
     "data": {
      "text/plain": [
       "<All keys matched successfully>"
      ]
     },
     "execution_count": 9,
     "metadata": {},
     "output_type": "execute_result"
    }
   ],
   "source": [
    "# Load checkpoint from SGD training\n",
    "IN_DIM, FEATURE_DIM, OUT_DIM = 784, 256, 10\n",
    "model = Net(IN_DIM, FEATURE_DIM, OUT_DIM)\n",
    "\n",
    "model.load_state_dict(torch.load('mnist.pt'))"
   ]
  },
  {
   "cell_type": "code",
   "execution_count": 10,
   "metadata": {},
   "outputs": [
    {
     "name": "stdout",
     "output_type": "stream",
     "text": [
      "classifier.1.weight \t torch.Size([256, 784])\n",
      "classifier.1.bias \t torch.Size([256])\n",
      "classifier.3.weight \t torch.Size([256, 256])\n",
      "classifier.3.bias \t torch.Size([256])\n",
      "classifier.5.weight \t torch.Size([10, 256])\n",
      "classifier.5.bias \t torch.Size([10])\n"
     ]
    }
   ],
   "source": [
    "import copy \n",
    "\n",
    "# Access parameters with state_dict\n",
    "opt_state_dict = copy.deepcopy(model.state_dict())\n",
    "\n",
    "for param_tensor in opt_state_dict:\n",
    "    print(param_tensor, \"\\t\", \n",
    "          opt_state_dict[param_tensor].size())\n",
    "\n",
    "# outputs:\n",
    "# classifier.1.weight \ttorch.Size([256, 784])\n",
    "# classifier.1.bias \t  torch.Size([256])\n",
    "# classifier.3.weight \ttorch.Size([256, 256])\n",
    "# classifier.3.bias \t  torch.Size([256])\n",
    "# classifier.5.weight \ttorch.Size([10, 256])\n",
    "# classifier.5.bias \t  torch.Size([10])"
   ]
  },
  {
   "cell_type": "code",
   "execution_count": 11,
   "metadata": {},
   "outputs": [],
   "source": [
    "# Create randomly initialized network\n",
    "model_rand = Net(IN_DIM, FEATURE_DIM, OUT_DIM)\n",
    "rand_state_dict = copy.deepcopy(model_rand.state_dict())\n",
    "     "
   ]
  },
  {
   "cell_type": "code",
   "execution_count": 12,
   "metadata": {},
   "outputs": [],
   "source": [
    "# Create a new state_dict for interpolated parameters\n",
    "test_model = Net(IN_DIM, FEATURE_DIM, OUT_DIM)\n",
    "test_state_dict = copy.deepcopy(test_model.state_dict())\n",
    "\n",
    "alpha = 0.2\n",
    "beta = 1.0 - alpha\n",
    "for p in opt_state_dict:\n",
    "    test_state_dict[p] = (opt_state_dict[p] * beta + \n",
    "                          rand_state_dict[p] * alpha)"
   ]
  },
  {
   "cell_type": "code",
   "execution_count": 13,
   "metadata": {},
   "outputs": [],
   "source": [
    "def inference(testloader, model, loss_fn):\n",
    "  running_loss = 0.0\n",
    "  with torch.no_grad():\n",
    "    for inputs, labels in testloader:\n",
    "      outputs = model(inputs)\n",
    "      loss = loss_fn(outputs, labels)\n",
    "      running_loss += loss\n",
    "  running_loss /= len(testloader)\n",
    "  return running_loss"
   ]
  },
  {
   "cell_type": "code",
   "execution_count": 14,
   "metadata": {},
   "outputs": [
    {
     "data": {
      "text/plain": [
       "tensor(-0.0003)"
      ]
     },
     "execution_count": 14,
     "metadata": {},
     "output_type": "execute_result"
    }
   ],
   "source": [
    "\n",
    "opt_state_dict['classifier.1.weight'][0][0]\n",
    "     "
   ]
  },
  {
   "cell_type": "code",
   "execution_count": 15,
   "metadata": {},
   "outputs": [
    {
     "name": "stdout",
     "output_type": "stream",
     "text": [
      "2.1099162101745605\n",
      "2.0415542125701904\n",
      "1.9778269529342651\n",
      "1.9189603328704834\n",
      "1.8641688823699951\n",
      "1.8136399984359741\n",
      "1.768113374710083\n",
      "1.72610604763031\n",
      "1.6895517110824585\n",
      "1.6571025848388672\n",
      "1.6293619871139526\n",
      "1.6062942743301392\n",
      "1.5873627662658691\n",
      "1.5733520984649658\n",
      "1.5633416175842285\n",
      "1.5577806234359741\n",
      "1.556396245956421\n",
      "1.558866024017334\n",
      "1.565139651298523\n",
      "1.5749577283859253\n",
      "1.588403344154358\n",
      "1.6046957969665527\n",
      "1.6239047050476074\n",
      "1.645547866821289\n",
      "1.669495701789856\n",
      "1.695425033569336\n",
      "1.7229924201965332\n",
      "1.7518614530563354\n",
      "1.7819706201553345\n",
      "1.8126821517944336\n",
      "1.844046950340271\n",
      "1.8755238056182861\n",
      "1.9069538116455078\n",
      "1.9381364583969116\n",
      "1.9687858819961548\n",
      "1.9987164735794067\n",
      "2.027782678604126\n",
      "2.055727005004883\n",
      "2.082671880722046\n",
      "2.10815691947937\n",
      "2.1323750019073486\n",
      "2.155137777328491\n",
      "2.1763978004455566\n",
      "2.1960811614990234\n",
      "2.214102029800415\n",
      "2.2304604053497314\n",
      "2.245029926300049\n",
      "2.257768154144287\n",
      "2.2686047554016113\n",
      "2.277557611465454\n",
      "2.2848060131073\n",
      "2.290665864944458\n",
      "2.295278549194336\n",
      "2.2984447479248047\n",
      "2.300204277038574\n",
      "2.301117181777954\n",
      "2.3015639781951904\n",
      "2.3017475605010986\n",
      "2.3018321990966797\n",
      "2.3019208908081055\n",
      "2.302056312561035\n",
      "2.302245616912842\n",
      "2.3024940490722656\n",
      "2.3028247356414795\n",
      "2.3032612800598145\n",
      "2.303834915161133\n",
      "2.3045730590820312\n",
      "2.3055272102355957\n",
      "2.3067550659179688\n",
      "2.3082568645477295\n",
      "2.3101303577423096\n",
      "2.312364101409912\n",
      "2.315049886703491\n",
      "2.318203926086426\n",
      "2.321962833404541\n",
      "2.3263051509857178\n",
      "2.3313493728637695\n",
      "2.3372573852539062\n",
      "2.344052791595459\n",
      "2.351867198944092\n"
     ]
    }
   ],
   "source": [
    "\n",
    "results = []\n",
    "for alpha in torch.arange(-2, 2, 0.05):\n",
    "  beta = 1.0 - alpha\n",
    "  \n",
    "  # Compute interpolated parameters\n",
    "  for p in opt_state_dict:\n",
    "    test_state_dict[p] = (opt_state_dict[p] * beta + \n",
    "                          rand_state_dict[p] * alpha)\n",
    "  \n",
    "  # Load interpolated parameters into test model\n",
    "  model.load_state_dict(test_state_dict)\n",
    "  \n",
    "  # Compute Loss given interpolated parameters\n",
    "  loss = inference(trainloader, model, loss_fn)\n",
    "  results.append(loss.item())\n",
    "  print(loss.item())"
   ]
  },
  {
   "cell_type": "code",
   "execution_count": 16,
   "metadata": {},
   "outputs": [
    {
     "data": {
      "text/plain": [
       "Text(0.5, 0, 'Alpha')"
      ]
     },
     "execution_count": 16,
     "metadata": {},
     "output_type": "execute_result"
    },
    {
     "data": {
      "image/png": "[encoded data removed]",
      "text/plain": [
       "<Figure size 640x480 with 1 Axes>"
      ]
     },
     "metadata": {},
     "output_type": "display_data"
    }
   ],
   "source": [
    "import matplotlib.pyplot as plt\n",
    "import numpy as np\n",
    "\n",
    "plt.plot(np.arange(-2, 2, 0.05), results, 'ro')\n",
    "plt.ylabel('Incurred Error')\n",
    "plt.xlabel('Alpha')"
   ]
  },
  {
   "cell_type": "code",
   "execution_count": 17,
   "metadata": {},
   "outputs": [
    {
     "data": {
      "text/plain": [
       "tensor([[7]])"
      ]
     },
     "execution_count": 17,
     "metadata": {},
     "output_type": "execute_result"
    }
   ],
   "source": [
    "import torch\n",
    "torch.randint(-10, 10, (1,1))"
   ]
  },
  {
   "cell_type": "code",
   "execution_count": 18,
   "metadata": {},
   "outputs": [],
   "source": [
    "rand_walk = [torch.randint(-10, 10, (1,1)) for x in range(100)]"
   ]
  },
  {
   "cell_type": "code",
   "execution_count": 19,
   "metadata": {},
   "outputs": [],
   "source": [
    "momentum = 0.1\n",
    "momentum_rand_walk = \\\n",
    "      [torch.randint(-10, 10, (1,1)) for x in range(100)]\n",
    "\n",
    "for i in range(1, len(rand_walk) - 1):\n",
    "  prev = momentum_rand_walk[i-1]\n",
    "  rand_choice = torch.randint(-10, 10, (1,1)).item()\n",
    "  new_step = momentum * prev + (1 - momentum) * rand_choice\n",
    "  momentum_rand_walk[i] = new_step"
   ]
  },
  {
   "cell_type": "code",
   "execution_count": 20,
   "metadata": {},
   "outputs": [
    {
     "ename": "ValueError",
     "evalue": "x and y can be no greater than 2D, but have shapes (99,) and (99, 1, 1)",
     "output_type": "error",
     "traceback": [
      "\u001b[1;31m---------------------------------------------------------------------------\u001b[0m",
      "\u001b[1;31mValueError\u001b[0m                                Traceback (most recent call last)",
      "Cell \u001b[1;32mIn[20], line 3\u001b[0m\n\u001b[0;32m      1\u001b[0m \u001b[38;5;28;01mimport\u001b[39;00m \u001b[38;5;21;01mmatplotlib\u001b[39;00m\u001b[38;5;21;01m.\u001b[39;00m\u001b[38;5;21;01mpyplot\u001b[39;00m \u001b[38;5;28;01mas\u001b[39;00m \u001b[38;5;21;01mplt\u001b[39;00m\n\u001b[1;32m----> 3\u001b[0m \u001b[43mplt\u001b[49m\u001b[38;5;241;43m.\u001b[39;49m\u001b[43mplot\u001b[49m\u001b[43m(\u001b[49m\u001b[43mmomentum_rand_walk\u001b[49m\u001b[43m[\u001b[49m\u001b[43m:\u001b[49m\u001b[38;5;241;43m-\u001b[39;49m\u001b[38;5;241;43m1\u001b[39;49m\u001b[43m]\u001b[49m\u001b[43m)\u001b[49m\n",
      "File \u001b[1;32mc:\\Python312\\Lib\\site-packages\\matplotlib\\pyplot.py:3794\u001b[0m, in \u001b[0;36mplot\u001b[1;34m(scalex, scaley, data, *args, **kwargs)\u001b[0m\n\u001b[0;32m   3786\u001b[0m \u001b[38;5;129m@_copy_docstring_and_deprecators\u001b[39m(Axes\u001b[38;5;241m.\u001b[39mplot)\n\u001b[0;32m   3787\u001b[0m \u001b[38;5;28;01mdef\u001b[39;00m \u001b[38;5;21mplot\u001b[39m(\n\u001b[0;32m   3788\u001b[0m     \u001b[38;5;241m*\u001b[39margs: \u001b[38;5;28mfloat\u001b[39m \u001b[38;5;241m|\u001b[39m ArrayLike \u001b[38;5;241m|\u001b[39m \u001b[38;5;28mstr\u001b[39m,\n\u001b[1;32m   (...)\u001b[0m\n\u001b[0;32m   3792\u001b[0m     \u001b[38;5;241m*\u001b[39m\u001b[38;5;241m*\u001b[39mkwargs,\n\u001b[0;32m   3793\u001b[0m ) \u001b[38;5;241m-\u001b[39m\u001b[38;5;241m>\u001b[39m \u001b[38;5;28mlist\u001b[39m[Line2D]:\n\u001b[1;32m-> 3794\u001b[0m     \u001b[38;5;28;01mreturn\u001b[39;00m \u001b[43mgca\u001b[49m\u001b[43m(\u001b[49m\u001b[43m)\u001b[49m\u001b[38;5;241;43m.\u001b[39;49m\u001b[43mplot\u001b[49m\u001b[43m(\u001b[49m\n\u001b[0;32m   3795\u001b[0m \u001b[43m        \u001b[49m\u001b[38;5;241;43m*\u001b[39;49m\u001b[43margs\u001b[49m\u001b[43m,\u001b[49m\n\u001b[0;32m   3796\u001b[0m \u001b[43m        \u001b[49m\u001b[43mscalex\u001b[49m\u001b[38;5;241;43m=\u001b[39;49m\u001b[43mscalex\u001b[49m\u001b[43m,\u001b[49m\n\u001b[0;32m   3797\u001b[0m \u001b[43m        \u001b[49m\u001b[43mscaley\u001b[49m\u001b[38;5;241;43m=\u001b[39;49m\u001b[43mscaley\u001b[49m\u001b[43m,\u001b[49m\n\u001b[0;32m   3798\u001b[0m \u001b[43m        \u001b[49m\u001b[38;5;241;43m*\u001b[39;49m\u001b[38;5;241;43m*\u001b[39;49m\u001b[43m(\u001b[49m\u001b[43m{\u001b[49m\u001b[38;5;124;43m\"\u001b[39;49m\u001b[38;5;124;43mdata\u001b[39;49m\u001b[38;5;124;43m\"\u001b[39;49m\u001b[43m:\u001b[49m\u001b[43m \u001b[49m\u001b[43mdata\u001b[49m\u001b[43m}\u001b[49m\u001b[43m \u001b[49m\u001b[38;5;28;43;01mif\u001b[39;49;00m\u001b[43m \u001b[49m\u001b[43mdata\u001b[49m\u001b[43m \u001b[49m\u001b[38;5;129;43;01mis\u001b[39;49;00m\u001b[43m \u001b[49m\u001b[38;5;129;43;01mnot\u001b[39;49;00m\u001b[43m \u001b[49m\u001b[38;5;28;43;01mNone\u001b[39;49;00m\u001b[43m \u001b[49m\u001b[38;5;28;43;01melse\u001b[39;49;00m\u001b[43m \u001b[49m\u001b[43m{\u001b[49m\u001b[43m}\u001b[49m\u001b[43m)\u001b[49m\u001b[43m,\u001b[49m\n\u001b[0;32m   3799\u001b[0m \u001b[43m        \u001b[49m\u001b[38;5;241;43m*\u001b[39;49m\u001b[38;5;241;43m*\u001b[39;49m\u001b[43mkwargs\u001b[49m\u001b[43m,\u001b[49m\n\u001b[0;32m   3800\u001b[0m \u001b[43m    \u001b[49m\u001b[43m)\u001b[49m\n",
      "File \u001b[1;32mc:\\Python312\\Lib\\site-packages\\matplotlib\\axes\\_axes.py:1779\u001b[0m, in \u001b[0;36mAxes.plot\u001b[1;34m(self, scalex, scaley, data, *args, **kwargs)\u001b[0m\n\u001b[0;32m   1536\u001b[0m \u001b[38;5;250m\u001b[39m\u001b[38;5;124;03m\"\"\"\u001b[39;00m\n\u001b[0;32m   1537\u001b[0m \u001b[38;5;124;03mPlot y versus x as lines and/or markers.\u001b[39;00m\n\u001b[0;32m   1538\u001b[0m \n\u001b[1;32m   (...)\u001b[0m\n\u001b[0;32m   1776\u001b[0m \u001b[38;5;124;03m(``'green'``) or hex strings (``'#008000'``).\u001b[39;00m\n\u001b[0;32m   1777\u001b[0m \u001b[38;5;124;03m\"\"\"\u001b[39;00m\n\u001b[0;32m   1778\u001b[0m kwargs \u001b[38;5;241m=\u001b[39m cbook\u001b[38;5;241m.\u001b[39mnormalize_kwargs(kwargs, mlines\u001b[38;5;241m.\u001b[39mLine2D)\n\u001b[1;32m-> 1779\u001b[0m lines \u001b[38;5;241m=\u001b[39m [\u001b[38;5;241m*\u001b[39m\u001b[38;5;28mself\u001b[39m\u001b[38;5;241m.\u001b[39m_get_lines(\u001b[38;5;28mself\u001b[39m, \u001b[38;5;241m*\u001b[39margs, data\u001b[38;5;241m=\u001b[39mdata, \u001b[38;5;241m*\u001b[39m\u001b[38;5;241m*\u001b[39mkwargs)]\n\u001b[0;32m   1780\u001b[0m \u001b[38;5;28;01mfor\u001b[39;00m line \u001b[38;5;129;01min\u001b[39;00m lines:\n\u001b[0;32m   1781\u001b[0m     \u001b[38;5;28mself\u001b[39m\u001b[38;5;241m.\u001b[39madd_line(line)\n",
      "File \u001b[1;32mc:\\Python312\\Lib\\site-packages\\matplotlib\\axes\\_base.py:296\u001b[0m, in \u001b[0;36m_process_plot_var_args.__call__\u001b[1;34m(self, axes, data, *args, **kwargs)\u001b[0m\n\u001b[0;32m    294\u001b[0m     this \u001b[38;5;241m+\u001b[39m\u001b[38;5;241m=\u001b[39m args[\u001b[38;5;241m0\u001b[39m],\n\u001b[0;32m    295\u001b[0m     args \u001b[38;5;241m=\u001b[39m args[\u001b[38;5;241m1\u001b[39m:]\n\u001b[1;32m--> 296\u001b[0m \u001b[38;5;28;01myield from\u001b[39;00m \u001b[38;5;28;43mself\u001b[39;49m\u001b[38;5;241;43m.\u001b[39;49m\u001b[43m_plot_args\u001b[49m\u001b[43m(\u001b[49m\n\u001b[0;32m    297\u001b[0m \u001b[43m    \u001b[49m\u001b[43maxes\u001b[49m\u001b[43m,\u001b[49m\u001b[43m \u001b[49m\u001b[43mthis\u001b[49m\u001b[43m,\u001b[49m\u001b[43m \u001b[49m\u001b[43mkwargs\u001b[49m\u001b[43m,\u001b[49m\u001b[43m \u001b[49m\u001b[43mambiguous_fmt_datakey\u001b[49m\u001b[38;5;241;43m=\u001b[39;49m\u001b[43mambiguous_fmt_datakey\u001b[49m\u001b[43m)\u001b[49m\n",
      "File \u001b[1;32mc:\\Python312\\Lib\\site-packages\\matplotlib\\axes\\_base.py:489\u001b[0m, in \u001b[0;36m_process_plot_var_args._plot_args\u001b[1;34m(self, axes, tup, kwargs, return_kwargs, ambiguous_fmt_datakey)\u001b[0m\n\u001b[0;32m    486\u001b[0m     \u001b[38;5;28;01mraise\u001b[39;00m \u001b[38;5;167;01mValueError\u001b[39;00m(\u001b[38;5;124mf\u001b[39m\u001b[38;5;124m\"\u001b[39m\u001b[38;5;124mx and y must have same first dimension, but \u001b[39m\u001b[38;5;124m\"\u001b[39m\n\u001b[0;32m    487\u001b[0m                      \u001b[38;5;124mf\u001b[39m\u001b[38;5;124m\"\u001b[39m\u001b[38;5;124mhave shapes \u001b[39m\u001b[38;5;132;01m{\u001b[39;00mx\u001b[38;5;241m.\u001b[39mshape\u001b[38;5;132;01m}\u001b[39;00m\u001b[38;5;124m and \u001b[39m\u001b[38;5;132;01m{\u001b[39;00my\u001b[38;5;241m.\u001b[39mshape\u001b[38;5;132;01m}\u001b[39;00m\u001b[38;5;124m\"\u001b[39m)\n\u001b[0;32m    488\u001b[0m \u001b[38;5;28;01mif\u001b[39;00m x\u001b[38;5;241m.\u001b[39mndim \u001b[38;5;241m>\u001b[39m \u001b[38;5;241m2\u001b[39m \u001b[38;5;129;01mor\u001b[39;00m y\u001b[38;5;241m.\u001b[39mndim \u001b[38;5;241m>\u001b[39m \u001b[38;5;241m2\u001b[39m:\n\u001b[1;32m--> 489\u001b[0m     \u001b[38;5;28;01mraise\u001b[39;00m \u001b[38;5;167;01mValueError\u001b[39;00m(\u001b[38;5;124mf\u001b[39m\u001b[38;5;124m\"\u001b[39m\u001b[38;5;124mx and y can be no greater than 2D, but have \u001b[39m\u001b[38;5;124m\"\u001b[39m\n\u001b[0;32m    490\u001b[0m                      \u001b[38;5;124mf\u001b[39m\u001b[38;5;124m\"\u001b[39m\u001b[38;5;124mshapes \u001b[39m\u001b[38;5;132;01m{\u001b[39;00mx\u001b[38;5;241m.\u001b[39mshape\u001b[38;5;132;01m}\u001b[39;00m\u001b[38;5;124m and \u001b[39m\u001b[38;5;132;01m{\u001b[39;00my\u001b[38;5;241m.\u001b[39mshape\u001b[38;5;132;01m}\u001b[39;00m\u001b[38;5;124m\"\u001b[39m)\n\u001b[0;32m    491\u001b[0m \u001b[38;5;28;01mif\u001b[39;00m x\u001b[38;5;241m.\u001b[39mndim \u001b[38;5;241m==\u001b[39m \u001b[38;5;241m1\u001b[39m:\n\u001b[0;32m    492\u001b[0m     x \u001b[38;5;241m=\u001b[39m x[:, np\u001b[38;5;241m.\u001b[39mnewaxis]\n",
      "\u001b[1;31mValueError\u001b[0m: x and y can be no greater than 2D, but have shapes (99,) and (99, 1, 1)"
     ]
    },
    {
     "data": {
      "image/png": "[encoded data removed]",
      "text/plain": [
       "<Figure size 640x480 with 1 Axes>"
      ]
     },
     "metadata": {},
     "output_type": "display_data"
    }
   ],
   "source": [
    "import matplotlib.pyplot as plt\n",
    "\n",
    "plt.plot(momentum_rand_walk[:-1])"
   ]
  },
  {
   "cell_type": "code",
   "execution_count": 21,
   "metadata": {},
   "outputs": [],
   "source": [
    "\n",
    "from torch import optim, nn\n",
    "# example model\n",
    "model = nn.Conv2d(1,32,3)\n",
    "     "
   ]
  },
  {
   "cell_type": "code",
   "execution_count": 22,
   "metadata": {},
   "outputs": [],
   "source": [
    "optimizer = optim.SGD(model.parameters(),\n",
    "                      lr = 0.01,\n",
    "                      momentum = 0.9)\n",
    "\n",
    "optimizer.step()"
   ]
  },
  {
   "cell_type": "code",
   "execution_count": 23,
   "metadata": {},
   "outputs": [],
   "source": [
    "optimizer = optim.SGD(model.parameters(),\n",
    "                      lr = 0.01,\n",
    "                      momentum = 0.9,\n",
    "                      nesterov = True)"
   ]
  },
  {
   "cell_type": "code",
   "execution_count": 24,
   "metadata": {},
   "outputs": [],
   "source": [
    "optimizer = optim.Adagrad(model.parameters(),\n",
    "                          lr = 0.01,\n",
    "                          weight_decay = 0,\n",
    "                          initial_accumulator_value = 0)\n",
    "     "
   ]
  },
  {
   "cell_type": "code",
   "execution_count": 25,
   "metadata": {},
   "outputs": [],
   "source": [
    "\n",
    "optimizer = optim.RMSprop(model.parameters(),\n",
    "                          lr = 0.01,\n",
    "                          alpha = 0.99,\n",
    "                          eps = 1e-8,\n",
    "                          weight_decay = 0,\n",
    "                          momentum = 0)"
   ]
  },
  {
   "cell_type": "code",
   "execution_count": 26,
   "metadata": {},
   "outputs": [],
   "source": [
    "optimizer = optim.Adam(model.parameters(),\n",
    "                       lr = 0.001,\n",
    "                       betas = (0.9, 0.999),\n",
    "                       eps = 1e-08,\n",
    "                       weight_decay = 0,\n",
    "                       amsgrad = False)"
   ]
  },
  {
   "cell_type": "code",
   "execution_count": null,
   "metadata": {},
   "outputs": [],
   "source": []
  }
 ],
 "metadata": {
  "kernelspec": {
   "display_name": "Python 3",
   "language": "python",
   "name": "python3"
  },
  "language_info": {
   "codemirror_mode": {
    "name": "ipython",
    "version": 3
   },
   "file_extension": ".py",
   "mimetype": "text/x-python",
   "name": "python",
   "nbconvert_exporter": "python",
   "pygments_lexer": "ipython3",
   "version": "3.12.3"
  }
 },
 "nbformat": 4,
 "nbformat_minor": 2
}
